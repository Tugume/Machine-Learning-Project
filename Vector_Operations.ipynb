{
  "nbformat": 4,
  "nbformat_minor": 0,
  "metadata": {
    "colab": {
      "provenance": [],
      "authorship_tag": "ABX9TyNgcbI8AXjl+Mz42d4z4tPI",
      "include_colab_link": true
    },
    "kernelspec": {
      "name": "python3",
      "display_name": "Python 3"
    },
    "language_info": {
      "name": "python"
    }
  },
  "cells": [
    {
      "cell_type": "markdown",
      "metadata": {
        "id": "view-in-github",
        "colab_type": "text"
      },
      "source": [
        "<a href=\"https://colab.research.google.com/github/Tugume/Machine-Learning-Project/blob/main/Vector_Operations.ipynb\" target=\"_parent\"><img src=\"https://colab.research.google.com/assets/colab-badge.svg\" alt=\"Open In Colab\"/></a>"
      ]
    },
    {
      "cell_type": "code",
      "execution_count": 3,
      "metadata": {
        "id": "S9Y9U1c4bUdx"
      },
      "outputs": [],
      "source": [
        "import numpy as np\n",
        "\n",
        "u=np.array([2,4,5,6])"
      ]
    },
    {
      "cell_type": "code",
      "source": [
        "u"
      ],
      "metadata": {
        "colab": {
          "base_uri": "https://localhost:8080/"
        },
        "id": "_NQpqsm6b9No",
        "outputId": "21e342ec-dada-47eb-c8ad-8c3d278269ef"
      },
      "execution_count": 4,
      "outputs": [
        {
          "output_type": "execute_result",
          "data": {
            "text/plain": [
              "array([2, 4, 5, 6])"
            ]
          },
          "metadata": {},
          "execution_count": 4
        }
      ]
    },
    {
      "cell_type": "code",
      "source": [],
      "metadata": {
        "id": "SZgFIAHlb9Lt"
      },
      "execution_count": 3,
      "outputs": []
    },
    {
      "cell_type": "code",
      "source": [
        "v =np.array([1,0,0,2])"
      ],
      "metadata": {
        "id": "8TbfEfIkcAZC"
      },
      "execution_count": 5,
      "outputs": []
    },
    {
      "cell_type": "code",
      "source": [
        "v"
      ],
      "metadata": {
        "colab": {
          "base_uri": "https://localhost:8080/"
        },
        "id": "VyZc8WtkcHzV",
        "outputId": "aa38525c-12a4-4d67-bc65-762adaa9ae5d"
      },
      "execution_count": 6,
      "outputs": [
        {
          "output_type": "execute_result",
          "data": {
            "text/plain": [
              "array([1, 0, 0, 2])"
            ]
          },
          "metadata": {},
          "execution_count": 6
        }
      ]
    },
    {
      "cell_type": "code",
      "source": [
        "u+v"
      ],
      "metadata": {
        "colab": {
          "base_uri": "https://localhost:8080/"
        },
        "id": "e0vCs8iscHxZ",
        "outputId": "e13d71b3-3507-4e36-ded7-68de8f4d26e9"
      },
      "execution_count": 7,
      "outputs": [
        {
          "output_type": "execute_result",
          "data": {
            "text/plain": [
              "array([3, 4, 5, 8])"
            ]
          },
          "metadata": {},
          "execution_count": 7
        }
      ]
    },
    {
      "cell_type": "markdown",
      "source": [
        "Vector-vectir multiplication (dot Product)"
      ],
      "metadata": {
        "id": "mKJMsZ9KcSuK"
      }
    },
    {
      "cell_type": "code",
      "source": [
        "u.shape[0]"
      ],
      "metadata": {
        "colab": {
          "base_uri": "https://localhost:8080/"
        },
        "id": "p9y20LLpd3lC",
        "outputId": "bced8ba5-1442-4b5a-b86a-443c4e7a095b"
      },
      "execution_count": 29,
      "outputs": [
        {
          "output_type": "execute_result",
          "data": {
            "text/plain": [
              "3"
            ]
          },
          "metadata": {},
          "execution_count": 29
        }
      ]
    },
    {
      "cell_type": "code",
      "source": [
        "def vector_vector_multiplication(u,v):\n",
        "  assert u.shape[0] == v.shape[0]\n",
        "  n=u.shape[0]\n",
        "  result=0.0\n",
        "\n",
        "  for i in range(n):\n",
        "    result=result+u[i]*v[i]\n",
        "  return result"
      ],
      "metadata": {
        "id": "z9SY_YIqfZbU"
      },
      "execution_count": 27,
      "outputs": []
    },
    {
      "cell_type": "code",
      "source": [
        "vector_vector_multiplication(u,v)\n",
        "\n"
      ],
      "metadata": {
        "colab": {
          "base_uri": "https://localhost:8080/"
        },
        "id": "n_Ccj3afejcX",
        "outputId": "667269ee-82a3-4024-bd90-c54e266f3224"
      },
      "execution_count": 21,
      "outputs": [
        {
          "output_type": "execute_result",
          "data": {
            "text/plain": [
              "array([ 11.,  32.,  45., 102.])"
            ]
          },
          "metadata": {},
          "execution_count": 21
        }
      ]
    },
    {
      "cell_type": "code",
      "source": [
        "u=np.array([\n",
        "    [2,4,5,6],\n",
        "    [1,2,1,3],\n",
        "    [3,2,2,1],\n",
        "\n",
        "    ])"
      ],
      "metadata": {
        "id": "my_auboudfKR"
      },
      "execution_count": 8,
      "outputs": []
    },
    {
      "cell_type": "code",
      "source": [
        "u"
      ],
      "metadata": {
        "colab": {
          "base_uri": "https://localhost:8080/"
        },
        "id": "he8BbgVyijVn",
        "outputId": "4af11a9e-2a86-40a9-aa23-cb641c61b081"
      },
      "execution_count": 31,
      "outputs": [
        {
          "output_type": "execute_result",
          "data": {
            "text/plain": [
              "array([[2, 4, 5, 6],\n",
              "       [1, 2, 1, 3],\n",
              "       [3, 2, 2, 1]])"
            ]
          },
          "metadata": {},
          "execution_count": 31
        }
      ]
    },
    {
      "cell_type": "code",
      "source": [
        "def matrix_vector_multiplication(u,v):\n",
        "  assert u.shape[1]==v.shape[0]\n",
        "\n",
        "  num_rows =u.shape[0]\n",
        "  result=np.zeros(num_rows)\n",
        "\n",
        "  for i in range(num_rows):\n",
        "    result[i]=vector_vector_multiplication(u[i],v)\n",
        "  return result"
      ],
      "metadata": {
        "id": "0OpQtWZdiqwd"
      },
      "execution_count": 43,
      "outputs": []
    },
    {
      "cell_type": "code",
      "source": [
        "matrix_vector_multiplication(u,v)"
      ],
      "metadata": {
        "id": "j2aEsWsbj0MU"
      },
      "execution_count": null,
      "outputs": []
    },
    {
      "cell_type": "code",
      "source": [
        "v=np.array([1, 0.5, 2, 1])"
      ],
      "metadata": {
        "id": "2uY1M6Gkdvov"
      },
      "execution_count": 28,
      "outputs": []
    },
    {
      "cell_type": "markdown",
      "source": [
        "Matrix_Vector multiplication"
      ],
      "metadata": {
        "id": "IrA8LBOCh5JG"
      }
    },
    {
      "cell_type": "code",
      "source": [
        "v =np.array([\n",
        "\n",
        "             [1,2,2],\n",
        "             [0,0.5,1],\n",
        "             [0,2,1],\n",
        "             [2,1,0],\n",
        "\n",
        "             ])"
      ],
      "metadata": {
        "id": "9n4AyHVph9Vx"
      },
      "execution_count": 34,
      "outputs": []
    },
    {
      "cell_type": "code",
      "source": [
        "v"
      ],
      "metadata": {
        "colab": {
          "base_uri": "https://localhost:8080/"
        },
        "id": "72oajfZYlZAQ",
        "outputId": "7f652837-ec21-4fce-c4d8-e49f23a7f108"
      },
      "execution_count": 35,
      "outputs": [
        {
          "output_type": "execute_result",
          "data": {
            "text/plain": [
              "array([[1. , 2. , 2. ],\n",
              "       [0. , 0.5, 1. ],\n",
              "       [0. , 2. , 1. ],\n",
              "       [2. , 1. , 0. ]])"
            ]
          },
          "metadata": {},
          "execution_count": 35
        }
      ]
    },
    {
      "cell_type": "markdown",
      "source": [
        "Matrix-Matrix multiplication"
      ],
      "metadata": {
        "id": "UREbtCh8kl0q"
      }
    },
    {
      "cell_type": "code",
      "source": [
        "def matrix_matrix_multiplication(u,v):\n",
        "  assert u.shape[1] ==v.shape[0]\n",
        "  num_row =u.shape[0]\n",
        "  num_cols =v.shape[1]\n",
        "\n",
        "  result=np.zeros((num_row,num_cols))\n",
        "\n",
        "  for i in range(num_cols):\n",
        "    vi=v[:,i]\n",
        "    uvi=matrix_vector_multiplication(u,vi)\n",
        "    result[:,i]=uvi\n",
        "  return result"
      ],
      "metadata": {
        "id": "_uFY4CMFe2ja"
      },
      "execution_count": 40,
      "outputs": []
    },
    {
      "cell_type": "code",
      "source": [
        "matrix_matrix_multiplication(u,v)"
      ],
      "metadata": {
        "colab": {
          "base_uri": "https://localhost:8080/"
        },
        "id": "Kilzeh68mO_-",
        "outputId": "5e37f648-c659-49df-c5d1-58c93d18d4c1"
      },
      "execution_count": 41,
      "outputs": [
        {
          "output_type": "execute_result",
          "data": {
            "text/plain": [
              "array([[14., 22., 13.],\n",
              "       [ 7.,  8.,  5.],\n",
              "       [ 5., 12., 10.]])"
            ]
          },
          "metadata": {},
          "execution_count": 41
        }
      ]
    },
    {
      "cell_type": "code",
      "source": [
        "u.dot(v)"
      ],
      "metadata": {
        "colab": {
          "base_uri": "https://localhost:8080/"
        },
        "id": "88dlc8K9mO9t",
        "outputId": "2c258edf-42cb-409e-fd8d-9a21d3e3c21e"
      },
      "execution_count": 42,
      "outputs": [
        {
          "output_type": "execute_result",
          "data": {
            "text/plain": [
              "array([[14., 22., 13.],\n",
              "       [ 7.,  8.,  5.],\n",
              "       [ 5., 12., 10.]])"
            ]
          },
          "metadata": {},
          "execution_count": 42
        }
      ]
    },
    {
      "cell_type": "markdown",
      "source": [
        "Identity Matrix"
      ],
      "metadata": {
        "id": "phY-HG2Pm7B6"
      }
    },
    {
      "cell_type": "code",
      "source": [
        "I= np.eye(3)"
      ],
      "metadata": {
        "id": "LVIM-Dbvm-hU"
      },
      "execution_count": 52,
      "outputs": []
    },
    {
      "cell_type": "code",
      "source": [
        "v"
      ],
      "metadata": {
        "colab": {
          "base_uri": "https://localhost:8080/"
        },
        "id": "nNhPSDPrnU3c",
        "outputId": "68de854e-b79f-4678-d49e-176376369e3a"
      },
      "execution_count": 53,
      "outputs": [
        {
          "output_type": "execute_result",
          "data": {
            "text/plain": [
              "array([[1. , 2. , 2. ],\n",
              "       [0. , 0.5, 1. ],\n",
              "       [0. , 2. , 1. ],\n",
              "       [2. , 1. , 0. ]])"
            ]
          },
          "metadata": {},
          "execution_count": 53
        }
      ]
    },
    {
      "cell_type": "code",
      "source": [
        "v.dot(I)"
      ],
      "metadata": {
        "colab": {
          "base_uri": "https://localhost:8080/"
        },
        "id": "qIwGcQSgnIzb",
        "outputId": "e8bfc835-f8da-4ac9-9e58-249ab63751e0"
      },
      "execution_count": 54,
      "outputs": [
        {
          "output_type": "execute_result",
          "data": {
            "text/plain": [
              "array([[1. , 2. , 2. ],\n",
              "       [0. , 0.5, 1. ],\n",
              "       [0. , 2. , 1. ],\n",
              "       [2. , 1. , 0. ]])"
            ]
          },
          "metadata": {},
          "execution_count": 54
        }
      ]
    },
    {
      "cell_type": "markdown",
      "source": [
        "Inverse"
      ],
      "metadata": {
        "id": "lDy56LVLnsUd"
      }
    },
    {
      "cell_type": "code",
      "source": [
        "Vs= v[[0,1,2]]\n",
        "Vs"
      ],
      "metadata": {
        "colab": {
          "base_uri": "https://localhost:8080/"
        },
        "id": "oo4cDgspntnt",
        "outputId": "405c5dca-a5d5-4064-c0ac-e5776dac2439"
      },
      "execution_count": 57,
      "outputs": [
        {
          "output_type": "execute_result",
          "data": {
            "text/plain": [
              "array([[1. , 2. , 2. ],\n",
              "       [0. , 0.5, 1. ],\n",
              "       [0. , 2. , 1. ]])"
            ]
          },
          "metadata": {},
          "execution_count": 57
        }
      ]
    },
    {
      "cell_type": "code",
      "source": [
        "Vs_inv =np.linalg.inv(Vs)\n",
        "Vs_inv"
      ],
      "metadata": {
        "colab": {
          "base_uri": "https://localhost:8080/"
        },
        "id": "JGB7EAgdn6Ic",
        "outputId": "c220171b-8a11-4bf5-a45f-529863611c9a"
      },
      "execution_count": 58,
      "outputs": [
        {
          "output_type": "execute_result",
          "data": {
            "text/plain": [
              "array([[ 1.        , -1.33333333, -0.66666667],\n",
              "       [ 0.        , -0.66666667,  0.66666667],\n",
              "       [ 0.        ,  1.33333333, -0.33333333]])"
            ]
          },
          "metadata": {},
          "execution_count": 58
        }
      ]
    },
    {
      "cell_type": "code",
      "source": [
        "Vs_inv.dot(Vs)"
      ],
      "metadata": {
        "colab": {
          "base_uri": "https://localhost:8080/"
        },
        "id": "F_F9e_SfoAbU",
        "outputId": "8410a7cf-a688-489d-9be5-49b882bf8cae"
      },
      "execution_count": 60,
      "outputs": [
        {
          "output_type": "execute_result",
          "data": {
            "text/plain": [
              "array([[1.00000000e+00, 2.22044605e-16, 1.11022302e-16],\n",
              "       [0.00000000e+00, 1.00000000e+00, 0.00000000e+00],\n",
              "       [0.00000000e+00, 0.00000000e+00, 1.00000000e+00]])"
            ]
          },
          "metadata": {},
          "execution_count": 60
        }
      ]
    }
  ]
}